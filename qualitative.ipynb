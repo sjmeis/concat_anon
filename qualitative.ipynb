{
 "cells": [
  {
   "cell_type": "code",
   "execution_count": null,
   "id": "e901f8a0",
   "metadata": {
    "scrolled": true
   },
   "outputs": [],
   "source": [
    "import sys\n",
    "import spacy\n",
    "import pandas as pd\n",
    "from nltk import word_tokenize\n",
    "from pathlib import Path\n",
    "import random"
   ]
  },
  {
   "cell_type": "code",
   "execution_count": 2,
   "id": "863ad0d5",
   "metadata": {},
   "outputs": [],
   "source": [
    "from nltk.stem import WordNetLemmatizer\n",
    "lemmatizer = WordNetLemmatizer()"
   ]
  },
  {
   "cell_type": "markdown",
   "id": "bb0a91f4",
   "metadata": {},
   "source": [
    "# calculate T3C and MMP"
   ]
  },
  {
   "cell_type": "code",
   "execution_count": 8,
   "id": "ca8588ec",
   "metadata": {},
   "outputs": [
    {
     "data": {
      "text/html": [
       "<div>\n",
       "<style scoped>\n",
       "    .dataframe tbody tr th:only-of-type {\n",
       "        vertical-align: middle;\n",
       "    }\n",
       "\n",
       "    .dataframe tbody tr th {\n",
       "        vertical-align: top;\n",
       "    }\n",
       "\n",
       "    .dataframe thead th {\n",
       "        text-align: right;\n",
       "    }\n",
       "</style>\n",
       "<table border=\"1\" class=\"dataframe\">\n",
       "  <thead>\n",
       "    <tr style=\"text-align: right;\">\n",
       "      <th></th>\n",
       "      <th>sentence</th>\n",
       "      <th>target</th>\n",
       "      <th>gold</th>\n",
       "      <th>ls_concat</th>\n",
       "    </tr>\n",
       "  </thead>\n",
       "  <tbody>\n",
       "    <tr>\n",
       "      <th>0</th>\n",
       "      <td>During the siege , George Robertson had appoin...</td>\n",
       "      <td>bright</td>\n",
       "      <td>intelligent;clever;smart</td>\n",
       "      <td>young;brilliant;smart;brave;bold;clever;lively...</td>\n",
       "    </tr>\n",
       "    <tr>\n",
       "      <th>1</th>\n",
       "      <td>The actual field is not much different than th...</td>\n",
       "      <td>brighter</td>\n",
       "      <td>luminous;well-lit;clear;light</td>\n",
       "      <td>darker;clearer;sharper;stronger;warmer;nicer;h...</td>\n",
       "    </tr>\n",
       "    <tr>\n",
       "      <th>2</th>\n",
       "      <td>The roses have grown out of control , wild and...</td>\n",
       "      <td>bright</td>\n",
       "      <td>colourful;brilliant;gleam;luminous</td>\n",
       "      <td>brightly;brilliant;shining;pale;vibrant;big;sw...</td>\n",
       "    </tr>\n",
       "    <tr>\n",
       "      <th>3</th>\n",
       "      <td>He was bright and independent and proud .</td>\n",
       "      <td>bright</td>\n",
       "      <td>intelligent;clever</td>\n",
       "      <td>smart;brilliant;sharp;bold;shining;hot;brightl...</td>\n",
       "    </tr>\n",
       "    <tr>\n",
       "      <th>4</th>\n",
       "      <td>In fact , during at least six distinct periods...</td>\n",
       "      <td>brightest</td>\n",
       "      <td>intelligent;clever;most;capable;promising;shar...</td>\n",
       "      <td>strongest;smartest;worst;best;safest;hardest;f...</td>\n",
       "    </tr>\n",
       "    <tr>\n",
       "      <th>...</th>\n",
       "      <td>...</td>\n",
       "      <td>...</td>\n",
       "      <td>...</td>\n",
       "      <td>...</td>\n",
       "    </tr>\n",
       "    <tr>\n",
       "      <th>295</th>\n",
       "      <td>Anyway here are some static pictures of the bo...</td>\n",
       "      <td>running</td>\n",
       "      <td>operate;go;function;work</td>\n",
       "      <td>moving;driving;flowing;spinning;walking;workin...</td>\n",
       "    </tr>\n",
       "    <tr>\n",
       "      <th>296</th>\n",
       "      <td>Last year , for example , we ran 2,659 electio...</td>\n",
       "      <td>ran</td>\n",
       "      <td>organise;manage;handle;complete</td>\n",
       "      <td>conducted;operated;registered;went;aired;flew;...</td>\n",
       "    </tr>\n",
       "    <tr>\n",
       "      <th>297</th>\n",
       "      <td>This is an excellent and important discussion ...</td>\n",
       "      <td>runs</td>\n",
       "      <td>contradict;proceed;flow;go;go</td>\n",
       "      <td>carries;goes;works;plays;stands;breaks;throws;...</td>\n",
       "    </tr>\n",
       "    <tr>\n",
       "      <th>298</th>\n",
       "      <td>Rumor has it that Apple is just B4 offering a ...</td>\n",
       "      <td>runs</td>\n",
       "      <td>use;execute;operate;include</td>\n",
       "      <td>uses;operates;carries;works;plays;houses;loves...</td>\n",
       "    </tr>\n",
       "    <tr>\n",
       "      <th>299</th>\n",
       "      <td>Why do you run from me ?</td>\n",
       "      <td>run</td>\n",
       "      <td>flee;scurry;avoid;rush;try</td>\n",
       "      <td>flee;hide;away;go;escape;die;fly;stay;come;take</td>\n",
       "    </tr>\n",
       "  </tbody>\n",
       "</table>\n",
       "<p>300 rows × 4 columns</p>\n",
       "</div>"
      ],
      "text/plain": [
       "                                              sentence     target  \\\n",
       "0    During the siege , George Robertson had appoin...     bright   \n",
       "1    The actual field is not much different than th...   brighter   \n",
       "2    The roses have grown out of control , wild and...     bright   \n",
       "3            He was bright and independent and proud .     bright   \n",
       "4    In fact , during at least six distinct periods...  brightest   \n",
       "..                                                 ...        ...   \n",
       "295  Anyway here are some static pictures of the bo...    running   \n",
       "296  Last year , for example , we ran 2,659 electio...        ran   \n",
       "297  This is an excellent and important discussion ...       runs   \n",
       "298  Rumor has it that Apple is just B4 offering a ...       runs   \n",
       "299                           Why do you run from me ?        run   \n",
       "\n",
       "                                                  gold  \\\n",
       "0                             intelligent;clever;smart   \n",
       "1                        luminous;well-lit;clear;light   \n",
       "2                   colourful;brilliant;gleam;luminous   \n",
       "3                                   intelligent;clever   \n",
       "4    intelligent;clever;most;capable;promising;shar...   \n",
       "..                                                 ...   \n",
       "295                           operate;go;function;work   \n",
       "296                    organise;manage;handle;complete   \n",
       "297                      contradict;proceed;flow;go;go   \n",
       "298                        use;execute;operate;include   \n",
       "299                         flee;scurry;avoid;rush;try   \n",
       "\n",
       "                                             ls_concat  \n",
       "0    young;brilliant;smart;brave;bold;clever;lively...  \n",
       "1    darker;clearer;sharper;stronger;warmer;nicer;h...  \n",
       "2    brightly;brilliant;shining;pale;vibrant;big;sw...  \n",
       "3    smart;brilliant;sharp;bold;shining;hot;brightl...  \n",
       "4    strongest;smartest;worst;best;safest;hardest;f...  \n",
       "..                                                 ...  \n",
       "295  moving;driving;flowing;spinning;walking;workin...  \n",
       "296  conducted;operated;registered;went;aired;flew;...  \n",
       "297  carries;goes;works;plays;stands;breaks;throws;...  \n",
       "298  uses;operates;carries;works;plays;houses;loves...  \n",
       "299    flee;hide;away;go;escape;die;fly;stay;come;take  \n",
       "\n",
       "[300 rows x 4 columns]"
      ]
     },
     "execution_count": 8,
     "metadata": {},
     "output_type": "execute_result"
    }
   ],
   "source": [
    "data = pd.read_csv(\"results/ls07_results.csv\")\n",
    "data"
   ]
  },
  {
   "cell_type": "code",
   "execution_count": 4,
   "id": "c3c4f869",
   "metadata": {},
   "outputs": [
    {
     "data": {
      "text/plain": [
       "3.84"
      ]
     },
     "execution_count": 4,
     "metadata": {},
     "output_type": "execute_result"
    }
   ],
   "source": [
    "sum([len(x.split(';')) for x in data[\"gold\"].to_list()]) / len(data.index)"
   ]
  },
  {
   "cell_type": "code",
   "execution_count": 9,
   "id": "57edd49a",
   "metadata": {},
   "outputs": [
    {
     "data": {
      "text/plain": [
       "0.1860730593607306"
      ]
     },
     "execution_count": 9,
     "metadata": {},
     "output_type": "execute_result"
    }
   ],
   "source": [
    "found = 0\n",
    "total = 0\n",
    "idxs = []\n",
    "for i, row in data.iterrows():\n",
    "    d = row[\"ls_concat\"]\n",
    "    if pd.isnull(d) == True:\n",
    "        continue\n",
    "    g = row[\"gold\"]\n",
    "    \n",
    "    temp = 0\n",
    "    for rep in d.lower().split(';')[:3]:\n",
    "        if lemmatizer.lemmatize(rep) in g.lower().split(';'):\n",
    "            found += 1\n",
    "            temp += 1\n",
    "        total += 1\n",
    "            \n",
    "    if temp == 0:\n",
    "        idxs.append(i)\n",
    "found / total"
   ]
  },
  {
   "cell_type": "code",
   "execution_count": 24,
   "id": "c907db39",
   "metadata": {},
   "outputs": [
    {
     "name": "stdout",
     "output_type": "stream",
     "text": [
      "154\n",
      "0.5133333333333333\n"
     ]
    },
    {
     "data": {
      "text/plain": [
       "[61, 8, 143]"
      ]
     },
     "execution_count": 24,
     "metadata": {},
     "output_type": "execute_result"
    }
   ],
   "source": [
    "print(len(idxs))\n",
    "print(len(idxs) / len(data.index))\n",
    "random.seed(42)\n",
    "random.sample(idxs, k=3)"
   ]
  },
  {
   "cell_type": "code",
   "execution_count": 25,
   "id": "809b9071",
   "metadata": {},
   "outputs": [
    {
     "name": "stdout",
     "output_type": "stream",
     "text": [
      "Finally , this new rule will also have the effect of encouraging existing corporations to produce safer products , in keeping with the public policy goals that underlie product liability law generally. [ Fn .\n",
      "Finally\n",
      "lastly;in\n",
      "note;Thus;together;However;and;Indeed;Since;Specifically\n"
     ]
    }
   ],
   "source": [
    "i = 61\n",
    "print(data.iloc[i].sentence)\n",
    "print(data.iloc[i].target)\n",
    "print(data.iloc[i].gold)\n",
    "print(data.iloc[i].ls_concat)"
   ]
  },
  {
   "cell_type": "code",
   "execution_count": 26,
   "id": "e49380dd",
   "metadata": {},
   "outputs": [
    {
     "name": "stdout",
     "output_type": "stream",
     "text": [
      "She turns eyes bright with excitement towards Fiona , still tugging on the string of the minitiature airship-cum-dance card she has just received at the door .\n",
      "bright\n",
      "shining;alight\n",
      "brightly;sharp;brilliant;light;dazzling;vibrant;high;hot;radiant;blazing\n"
     ]
    }
   ],
   "source": [
    "i = 8\n",
    "print(data.iloc[i].sentence)\n",
    "print(data.iloc[i].target)\n",
    "print(data.iloc[i].gold)\n",
    "print(data.iloc[i].ls_concat)"
   ]
  },
  {
   "cell_type": "code",
   "execution_count": 27,
   "id": "89621a4b",
   "metadata": {},
   "outputs": [
    {
     "name": "stdout",
     "output_type": "stream",
     "text": [
      "Treatment of physical problems , particularly chronic ones , is possible as well as psychological therapy .\n",
      "well\n",
      "in;along;including\n",
      "much;also;far;long;deeply;equally;even;great;good;wel\n"
     ]
    }
   ],
   "source": [
    "i = 143\n",
    "print(data.iloc[i].sentence)\n",
    "print(data.iloc[i].target)\n",
    "print(data.iloc[i].gold)\n",
    "print(data.iloc[i].ls_concat)"
   ]
  },
  {
   "cell_type": "markdown",
   "id": "1b0c1c7b",
   "metadata": {},
   "source": [
    "## coinco"
   ]
  },
  {
   "cell_type": "code",
   "execution_count": 28,
   "id": "39ca66ff",
   "metadata": {},
   "outputs": [
    {
     "data": {
      "text/html": [
       "<div>\n",
       "<style scoped>\n",
       "    .dataframe tbody tr th:only-of-type {\n",
       "        vertical-align: middle;\n",
       "    }\n",
       "\n",
       "    .dataframe tbody tr th {\n",
       "        vertical-align: top;\n",
       "    }\n",
       "\n",
       "    .dataframe thead th {\n",
       "        text-align: right;\n",
       "    }\n",
       "</style>\n",
       "<table border=\"1\" class=\"dataframe\">\n",
       "  <thead>\n",
       "    <tr style=\"text-align: right;\">\n",
       "      <th></th>\n",
       "      <th>target_sentence</th>\n",
       "      <th>postcontext</th>\n",
       "      <th>substitutions</th>\n",
       "      <th>replace</th>\n",
       "      <th>replace_proc</th>\n",
       "    </tr>\n",
       "  </thead>\n",
       "  <tbody>\n",
       "    <tr>\n",
       "      <th>0</th>\n",
       "      <td>A mission to end a war</td>\n",
       "      <td>AUSTIN, Texas -- Tom Karnes was dialing for de...</td>\n",
       "      <td>{'mission': 'calling;campaign;dedication;devot...</td>\n",
       "      <td>{'mission': 'message;purpose;goal;role;mandate...</td>\n",
       "      <td>{'mission': 'message;purpose;goal;role;mandate...</td>\n",
       "    </tr>\n",
       "    <tr>\n",
       "      <th>1</th>\n",
       "      <td>A.L. Williams Corp. was merged into Primerica ...</td>\n",
       "      <td>Primerica, which had owned nearly 70% of Willi...</td>\n",
       "      <td>{'merged': 'absorb;assimilate;combine;join;tak...</td>\n",
       "      <td>{'merged': 'merger;integrated;consolidated;com...</td>\n",
       "      <td>{'merged': 'merger;integrated;consolidated;com...</td>\n",
       "    </tr>\n",
       "    <tr>\n",
       "      <th>2</th>\n",
       "      <td>ANGELS MAKE TRADE TO GET OUTFIELD DEPTH</td>\n",
       "      <td>ANAHEIM, Calif. -- The Anaheim Angels got help...</td>\n",
       "      <td>{'MAKE': 'accept;arrange;carry out;conduct;do;...</td>\n",
       "      <td>{'MAKE': 'make;DO;ADD;MARK;ON;HAVE;SEE;PAY;PLA...</td>\n",
       "      <td>{'MAKE': 'make;do;add;mark;on;have;see;pay;pla...</td>\n",
       "    </tr>\n",
       "    <tr>\n",
       "      <th>3</th>\n",
       "      <td>CHRON EDITORS NOTE: Each week, The Chronicle o...</td>\n",
       "      <td>THE PRODUCE BIN: Bitter melon</td>\n",
       "      <td>{'NOTE': 'addendum;addition;comment;input;mess...</td>\n",
       "      <td>{'NOTE': 'NOTICE;EDIT;note;WARNING;REPORT;Note...</td>\n",
       "      <td>{'NOTE': 'notice;edit;note;warning;report;note...</td>\n",
       "    </tr>\n",
       "    <tr>\n",
       "      <th>4</th>\n",
       "      <td>Coleco Industries Inc., a once high-flying toy...</td>\n",
       "      <td>Under the plan, unsecured creditors, who are o...</td>\n",
       "      <td>{'once': 'before;formerly;in the past;old;one ...</td>\n",
       "      <td>{'once': 'formerly;former;briefly;typically;su...</td>\n",
       "      <td>{'once': 'formerly;former;briefly;typically;su...</td>\n",
       "    </tr>\n",
       "    <tr>\n",
       "      <th>...</th>\n",
       "      <td>...</td>\n",
       "      <td>...</td>\n",
       "      <td>...</td>\n",
       "      <td>...</td>\n",
       "      <td>...</td>\n",
       "    </tr>\n",
       "    <tr>\n",
       "      <th>2469</th>\n",
       "      <td>She didn’t come home last night, none of her f...</td>\n",
       "      <td>She didn’t come home last night, none of her f...</td>\n",
       "      <td>{'didn': 'did not;have', 'come': 'appear;arriv...</td>\n",
       "      <td>{'didn': 'dn;n', 'come': 'return;stay;report;d...</td>\n",
       "      <td>{'didn': 'dn;n', 'come': 'return;stay;report;d...</td>\n",
       "    </tr>\n",
       "    <tr>\n",
       "      <th>2470</th>\n",
       "      <td>Now leave, before I call the rats on you.</td>\n",
       "      <td>Now leave, before I call the rats on you.”</td>\n",
       "      <td>{'Now': 'alright;at this instant;at this time;...</td>\n",
       "      <td>{'Now': 'You;Then;So;Just;Better;To;Do;please;...</td>\n",
       "      <td>{'Now': 'you;then;so;just;better;to;do;please;...</td>\n",
       "    </tr>\n",
       "    <tr>\n",
       "      <th>2471</th>\n",
       "      <td>Last night, walking on West 2nd street around ...</td>\n",
       "      <td>Last night, walking on West 2nd street around ...</td>\n",
       "      <td>{'Last': 'former;past;previous;prior;the previ...</td>\n",
       "      <td>{'Last': 'Sunday;Saturday;Friday;Monday;Thursd...</td>\n",
       "      <td>{'Last': 'sunday;saturday;friday;monday;thursd...</td>\n",
       "    </tr>\n",
       "    <tr>\n",
       "      <th>2472</th>\n",
       "      <td>My girlfriend has disappeared, I don’t even kn...</td>\n",
       "      <td>My girlfriend has disappeared, I don’t even kn...</td>\n",
       "      <td>{'girlfriend': 'chick;friend;girl;honey;lover;...</td>\n",
       "      <td>{'girlfriend': 'boyfriend;girl;friend;partner;...</td>\n",
       "      <td>{'girlfriend': 'boyfriend;girl;friend;partner;...</td>\n",
       "    </tr>\n",
       "    <tr>\n",
       "      <th>2473</th>\n",
       "      <td>I understand.</td>\n",
       "      <td>I understand.”</td>\n",
       "      <td>{'understand': 'be aware;comprehend;get it;gra...</td>\n",
       "      <td>{'understand': 'know;feel;see;think;respect;re...</td>\n",
       "      <td>{'understand': 'know;feel;see;think;respect;re...</td>\n",
       "    </tr>\n",
       "  </tbody>\n",
       "</table>\n",
       "<p>2474 rows × 5 columns</p>\n",
       "</div>"
      ],
      "text/plain": [
       "                                        target_sentence  \\\n",
       "0                                A mission to end a war   \n",
       "1     A.L. Williams Corp. was merged into Primerica ...   \n",
       "2               ANGELS MAKE TRADE TO GET OUTFIELD DEPTH   \n",
       "3     CHRON EDITORS NOTE: Each week, The Chronicle o...   \n",
       "4     Coleco Industries Inc., a once high-flying toy...   \n",
       "...                                                 ...   \n",
       "2469  She didn’t come home last night, none of her f...   \n",
       "2470          Now leave, before I call the rats on you.   \n",
       "2471  Last night, walking on West 2nd street around ...   \n",
       "2472  My girlfriend has disappeared, I don’t even kn...   \n",
       "2473                                      I understand.   \n",
       "\n",
       "                                            postcontext  \\\n",
       "0     AUSTIN, Texas -- Tom Karnes was dialing for de...   \n",
       "1     Primerica, which had owned nearly 70% of Willi...   \n",
       "2     ANAHEIM, Calif. -- The Anaheim Angels got help...   \n",
       "3                         THE PRODUCE BIN: Bitter melon   \n",
       "4     Under the plan, unsecured creditors, who are o...   \n",
       "...                                                 ...   \n",
       "2469  She didn’t come home last night, none of her f...   \n",
       "2470         Now leave, before I call the rats on you.”   \n",
       "2471  Last night, walking on West 2nd street around ...   \n",
       "2472  My girlfriend has disappeared, I don’t even kn...   \n",
       "2473                                     I understand.”   \n",
       "\n",
       "                                          substitutions  \\\n",
       "0     {'mission': 'calling;campaign;dedication;devot...   \n",
       "1     {'merged': 'absorb;assimilate;combine;join;tak...   \n",
       "2     {'MAKE': 'accept;arrange;carry out;conduct;do;...   \n",
       "3     {'NOTE': 'addendum;addition;comment;input;mess...   \n",
       "4     {'once': 'before;formerly;in the past;old;one ...   \n",
       "...                                                 ...   \n",
       "2469  {'didn': 'did not;have', 'come': 'appear;arriv...   \n",
       "2470  {'Now': 'alright;at this instant;at this time;...   \n",
       "2471  {'Last': 'former;past;previous;prior;the previ...   \n",
       "2472  {'girlfriend': 'chick;friend;girl;honey;lover;...   \n",
       "2473  {'understand': 'be aware;comprehend;get it;gra...   \n",
       "\n",
       "                                                replace  \\\n",
       "0     {'mission': 'message;purpose;goal;role;mandate...   \n",
       "1     {'merged': 'merger;integrated;consolidated;com...   \n",
       "2     {'MAKE': 'make;DO;ADD;MARK;ON;HAVE;SEE;PAY;PLA...   \n",
       "3     {'NOTE': 'NOTICE;EDIT;note;WARNING;REPORT;Note...   \n",
       "4     {'once': 'formerly;former;briefly;typically;su...   \n",
       "...                                                 ...   \n",
       "2469  {'didn': 'dn;n', 'come': 'return;stay;report;d...   \n",
       "2470  {'Now': 'You;Then;So;Just;Better;To;Do;please;...   \n",
       "2471  {'Last': 'Sunday;Saturday;Friday;Monday;Thursd...   \n",
       "2472  {'girlfriend': 'boyfriend;girl;friend;partner;...   \n",
       "2473  {'understand': 'know;feel;see;think;respect;re...   \n",
       "\n",
       "                                           replace_proc  \n",
       "0     {'mission': 'message;purpose;goal;role;mandate...  \n",
       "1     {'merged': 'merger;integrated;consolidated;com...  \n",
       "2     {'MAKE': 'make;do;add;mark;on;have;see;pay;pla...  \n",
       "3     {'NOTE': 'notice;edit;note;warning;report;note...  \n",
       "4     {'once': 'formerly;former;briefly;typically;su...  \n",
       "...                                                 ...  \n",
       "2469  {'didn': 'dn;n', 'come': 'return;stay;report;d...  \n",
       "2470  {'Now': 'you;then;so;just;better;to;do;please;...  \n",
       "2471  {'Last': 'sunday;saturday;friday;monday;thursd...  \n",
       "2472  {'girlfriend': 'boyfriend;girl;friend;partner;...  \n",
       "2473  {'understand': 'know;feel;see;think;respect;re...  \n",
       "\n",
       "[2474 rows x 5 columns]"
      ]
     },
     "execution_count": 28,
     "metadata": {},
     "output_type": "execute_result"
    }
   ],
   "source": [
    "data = pd.read_csv(\"results/coinco_ls_results.csv\")\n",
    "data"
   ]
  },
  {
   "cell_type": "code",
   "execution_count": 29,
   "id": "bc11ff91",
   "metadata": {},
   "outputs": [
    {
     "data": {
      "text/plain": [
       "6.225949878738884"
      ]
     },
     "execution_count": 29,
     "metadata": {},
     "output_type": "execute_result"
    }
   ],
   "source": [
    "sum([len(eval(x).values()) for x in data[\"substitutions\"].to_list()]) / len(data.index)"
   ]
  },
  {
   "cell_type": "code",
   "execution_count": 30,
   "id": "28a4383c",
   "metadata": {},
   "outputs": [
    {
     "data": {
      "text/plain": [
       "0.27713481388802"
      ]
     },
     "execution_count": 30,
     "metadata": {},
     "output_type": "execute_result"
    }
   ],
   "source": [
    "found = 0\n",
    "total = 0\n",
    "idxs = []\n",
    "for i, row in data.iterrows():\n",
    "    d = eval(row[\"replace_proc\"])\n",
    "    g = eval(row[\"substitutions\"])\n",
    "    \n",
    "    temp = 0\n",
    "    for rep in d:\n",
    "        for cand in d[rep].lower().split(';')[:3]:\n",
    "            if lemmatizer.lemmatize(cand) in g[rep].lower().split(';'):\n",
    "                found += 1\n",
    "                temp += 1\n",
    "            total += 1\n",
    "            \n",
    "    if temp == 0:\n",
    "        idxs.append(i)\n",
    "found / total"
   ]
  },
  {
   "cell_type": "code",
   "execution_count": 31,
   "id": "7620e962",
   "metadata": {},
   "outputs": [
    {
     "name": "stdout",
     "output_type": "stream",
     "text": [
      "294\n",
      "0.11883589329021826\n"
     ]
    },
    {
     "data": {
      "text/plain": [
       "[352, 93, 1129]"
      ]
     },
     "execution_count": 31,
     "metadata": {},
     "output_type": "execute_result"
    }
   ],
   "source": [
    "print(len(idxs))\n",
    "print(len(idxs) / len(data.index))\n",
    "random.seed(42)\n",
    "random.sample(idxs, k=3)"
   ]
  },
  {
   "cell_type": "code",
   "execution_count": 32,
   "id": "717a1121",
   "metadata": {},
   "outputs": [
    {
     "name": "stdout",
     "output_type": "stream",
     "text": [
      "-- occupied The Flamingo.\n",
      "I do not plan to write a book: this narrative must move more quickly.\n",
      "{'occupied': 'dwell in;engross;indwell;inhabit;involved;live in;seize;stay at;visit'}\n",
      "{'occupied': 'in;inside;to;after;meet;about'}\n"
     ]
    }
   ],
   "source": [
    "i = 2177\n",
    "print(data.iloc[i].target_sentence)\n",
    "print(data.iloc[i].postcontext)\n",
    "print(data.iloc[i].substitutions)\n",
    "print(data.iloc[i].replace_proc)"
   ]
  },
  {
   "cell_type": "code",
   "execution_count": 33,
   "id": "71e279cb",
   "metadata": {},
   "outputs": [
    {
     "name": "stdout",
     "output_type": "stream",
     "text": [
      "I pointed.\n",
      "\"It has no tower.\"\n",
      "{'pointed': 'denote;direct;finger;gesticulate;gesture;imply;indicate;motion;point out;remark;show;signal;suggest'}\n",
      "{'pointed': 'said;drew;noted;nodded;directed;tweeted;asked;poked;showed;gave;mentioned;looked;cited'}\n"
     ]
    }
   ],
   "source": [
    "i = 211\n",
    "print(data.iloc[i].target_sentence)\n",
    "print(data.iloc[i].postcontext)\n",
    "print(data.iloc[i].substitutions)\n",
    "print(data.iloc[i].replace_proc)"
   ]
  },
  {
   "cell_type": "code",
   "execution_count": 34,
   "id": "faeb4ad7",
   "metadata": {},
   "outputs": [
    {
     "name": "stdout",
     "output_type": "stream",
     "text": [
      "Come on, let’s go.\n",
      "Come on, let’s go.”\n",
      "{'Come': 'get;go;hurry', 'let': 'allow us to;come;get to', 'go': 'depart;leave;move;proceed;start'}\n",
      "{'Come': 'late;come;hold', 'let': 'get;help;set', 'go': 'say;try;take;play;run'}\n"
     ]
    }
   ],
   "source": [
    "i = 2193\n",
    "print(data.iloc[i].target_sentence)\n",
    "print(data.iloc[i].postcontext)\n",
    "print(data.iloc[i].substitutions)\n",
    "print(data.iloc[i].replace_proc)"
   ]
  },
  {
   "cell_type": "code",
   "execution_count": 35,
   "id": "b7397195",
   "metadata": {},
   "outputs": [
    {
     "name": "stdout",
     "output_type": "stream",
     "text": [
      "She smiled.\n",
      "I had to grin, so I did.\n",
      "{'smiled': 'beam;chuckle;curl;glow;grin;look happy;look pleased;simper;wink'}\n",
      "{'smiled': 'laughed;grinned;sighed;said;shrugged;frowned;stared;joked;waved'}\n"
     ]
    }
   ],
   "source": [
    "i = 231\n",
    "print(data.iloc[i].target_sentence)\n",
    "print(data.iloc[i].postcontext)\n",
    "print(data.iloc[i].substitutions)\n",
    "print(data.iloc[i].replace_proc)"
   ]
  },
  {
   "cell_type": "code",
   "execution_count": 36,
   "id": "e4b91276",
   "metadata": {},
   "outputs": [
    {
     "name": "stdout",
     "output_type": "stream",
     "text": [
      "He told her that the Russian skating federation official will help -- he has two or three judges.\n",
      "\"will help -- he has two or three judges.\"\n",
      "{'told': 'advise;assure;educate;inform;promise;relay to', 'Russian': 'soviet', 'skating': 'competition;ice skate;skating sport;sport', 'federation': 'agency;association;commission;committee;corporation;establishment;group;league;organization', 'official': 'adjudicator;agent;authority;commissioner;head;judge;leader;member;organizer;overseer;representative', 'help': 'aid;assist;supply;support', 'judges': 'Olympic judge;adjudicator;arbiter;critic;evaluator;official;rater;scorer;vote'}\n",
      "{'told': 'said;showed;gave;warned;old;advised', 'Russian': 'russia', 'skating': 'dancing;swimming;skiing;racing', 'federation': 'feder;union;forum;f;league;republic;ederation;championship;foundation', 'official': 'officer;employee;officially;e;individual;expert;office;inspector;administrator;executive;figure', 'help': 'say;ensure;think;assist', 'judges': 'referee;player;reviewer;juror;court;witness;vote;singer;…'}\n"
     ]
    }
   ],
   "source": [
    "i = 352\n",
    "print(data.iloc[i].target_sentence)\n",
    "print(data.iloc[i].postcontext)\n",
    "print(data.iloc[i].substitutions)\n",
    "print(data.iloc[i].replace_proc)"
   ]
  },
  {
   "cell_type": "code",
   "execution_count": 37,
   "id": "0650b764",
   "metadata": {},
   "outputs": [
    {
     "name": "stdout",
     "output_type": "stream",
     "text": [
      "Tara fumed.\n",
      "Of all the impertinence!\n",
      "{'fumed': 'anger;be steam;be upset;blow up;boil;bristle;burn;digest;flare;fret;froth;glower;grumble;howl;madden;plan;rage;rant;rave;ruffle;scowl;seethe;smolder;steam;stew;whine;yell'}\n",
      "{'fumed': 'raged;complained;argued;sighed;panicked;screamed;furious;enraged;hesitated;said;spat;warned;cried;frowned;swore;laughed;cursed;roared;glared;died'}\n"
     ]
    }
   ],
   "source": [
    "i = 93\n",
    "print(data.iloc[i].target_sentence)\n",
    "print(data.iloc[i].postcontext)\n",
    "print(data.iloc[i].substitutions)\n",
    "print(data.iloc[i].replace_proc)"
   ]
  },
  {
   "cell_type": "code",
   "execution_count": 38,
   "id": "4fbb8455",
   "metadata": {},
   "outputs": [
    {
     "name": "stdout",
     "output_type": "stream",
     "text": [
      "I have sent Patti a list.\n",
      "For payment, we have to forecast the money two days out.\n",
      "{'sent': 'convey;deliver;dispatch;forward;mail;relay;remit;report', 'list': 'bill;catalogue;index;inventory;manifest;memo;menu;note;request;summary'}\n",
      "{'sent': 'given;written;mailed;shipped;received;dispatched;texted;passed', 'list': 'map;group;plan;set;playlist;checklist;name;post;request;letter'}\n"
     ]
    }
   ],
   "source": [
    "i = 1129\n",
    "print(data.iloc[i].target_sentence)\n",
    "print(data.iloc[i].postcontext)\n",
    "print(data.iloc[i].substitutions)\n",
    "print(data.iloc[i].replace_proc)"
   ]
  },
  {
   "cell_type": "markdown",
   "id": "7029031a",
   "metadata": {},
   "source": [
    "## swords"
   ]
  },
  {
   "cell_type": "code",
   "execution_count": 30,
   "id": "7ee4ee01",
   "metadata": {
    "scrolled": false
   },
   "outputs": [
    {
     "data": {
      "text/html": [
       "<div>\n",
       "<style scoped>\n",
       "    .dataframe tbody tr th:only-of-type {\n",
       "        vertical-align: middle;\n",
       "    }\n",
       "\n",
       "    .dataframe tbody tr th {\n",
       "        vertical-align: top;\n",
       "    }\n",
       "\n",
       "    .dataframe thead th {\n",
       "        text-align: right;\n",
       "    }\n",
       "</style>\n",
       "<table border=\"1\" class=\"dataframe\">\n",
       "  <thead>\n",
       "    <tr style=\"text-align: right;\">\n",
       "      <th></th>\n",
       "      <th>sentence</th>\n",
       "      <th>target</th>\n",
       "      <th>gold</th>\n",
       "      <th>ls_concat</th>\n",
       "      <th>gold_05</th>\n",
       "      <th>gold_01</th>\n",
       "    </tr>\n",
       "  </thead>\n",
       "  <tbody>\n",
       "    <tr>\n",
       "      <th>0</th>\n",
       "      <td>Kim: I have completed the invoices for April, ...</td>\n",
       "      <td>total</td>\n",
       "      <td>all;entirety;quantum;whole;sum total;bulk;figu...</td>\n",
       "      <td>maximum;minimum</td>\n",
       "      <td>sum total;figure;amount;price;cost;balance;sum...</td>\n",
       "      <td>quantum;whole;sum total;figure;amount;price;ag...</td>\n",
       "    </tr>\n",
       "    <tr>\n",
       "      <th>1</th>\n",
       "      <td>Nepthys turned to me. “Well, kid, what do you ...</td>\n",
       "      <td>think</td>\n",
       "      <td>estimate;feel;determine;appraise;anticipate;re...</td>\n",
       "      <td>say;mean;feel;like;know</td>\n",
       "      <td>presume;conclude;speculate;suppose;suspect;hav...</td>\n",
       "      <td>estimate;feel;determine;appraise;anticipate;pr...</td>\n",
       "    </tr>\n",
       "    <tr>\n",
       "      <th>2</th>\n",
       "      <td>He turned to me. Nepthys nodded: “It’s okay, y...</td>\n",
       "      <td>okay</td>\n",
       "      <td>swell;alright;adequate;tolerable;convenient;go...</td>\n",
       "      <td>alright;ok</td>\n",
       "      <td>alright;all right;ok;fine</td>\n",
       "      <td>swell;alright;adequate;tolerable;convenient;go...</td>\n",
       "    </tr>\n",
       "    <tr>\n",
       "      <th>3</th>\n",
       "      <td>“Listen, man, he’s not there! I’m telling you,...</td>\n",
       "      <td>checking</td>\n",
       "      <td>withhold;overlook;frustrate;hold down;candle;n...</td>\n",
       "      <td>calling;searching;crossing;testing;reading</td>\n",
       "      <td>search;investigate;try;explore</td>\n",
       "      <td>search;examine;study;inspect;enquire about;asc...</td>\n",
       "    </tr>\n",
       "    <tr>\n",
       "      <th>4</th>\n",
       "      <td>…I thought as much. Now leave, before I call t...</td>\n",
       "      <td>call</td>\n",
       "      <td>bawl;scream;style;predict;foretell;baptize;rou...</td>\n",
       "      <td>summon;bring;phone</td>\n",
       "      <td>sic;rally;set;summon;send;order;get</td>\n",
       "      <td>ring up;sic;arrange meeting;roar;attempt to co...</td>\n",
       "    </tr>\n",
       "    <tr>\n",
       "      <th>...</th>\n",
       "      <td>...</td>\n",
       "      <td>...</td>\n",
       "      <td>...</td>\n",
       "      <td>...</td>\n",
       "      <td>...</td>\n",
       "      <td>...</td>\n",
       "    </tr>\n",
       "    <tr>\n",
       "      <th>365</th>\n",
       "      <td>“Okay,” I said. “I’m in the car. Now, will you...</td>\n",
       "      <td>car</td>\n",
       "      <td>pickup;vehicle;motor;machine;van;wagon;limousi...</td>\n",
       "      <td>auto;vehicle;house;room;head;taxi</td>\n",
       "      <td>vehicle;auto;motorcar;automobile;ride;vehicle ...</td>\n",
       "      <td>pickup;vehicle;van;limousine;hatchback;roadste...</td>\n",
       "    </tr>\n",
       "    <tr>\n",
       "      <th>366</th>\n",
       "      <td>A corpulent, batrachian woman walked along wit...</td>\n",
       "      <td>building</td>\n",
       "      <td>facility;flat;structure;unit;skyscraper;house;...</td>\n",
       "      <td>dwelling;structure;construction;constructing</td>\n",
       "      <td>facility;structure;edifice;constructed dwelling</td>\n",
       "      <td>facility;flat;structure;unit;skyscraper;house;...</td>\n",
       "    </tr>\n",
       "    <tr>\n",
       "      <th>367</th>\n",
       "      <td>“Only unsuccessfully, right?” “No, those peopl...</td>\n",
       "      <td>people</td>\n",
       "      <td>guy;creature;bourgeois;folks;person;individual...</td>\n",
       "      <td>folks;guys;things;folk;students;kids</td>\n",
       "      <td>folks;person;folk;human beings;humans;populace...</td>\n",
       "      <td>guy;creature;folks;person;individual;folk;bodi...</td>\n",
       "    </tr>\n",
       "    <tr>\n",
       "      <th>368</th>\n",
       "      <td>“They’re quick, too. We’ll be done with them b...</td>\n",
       "      <td>finished</td>\n",
       "      <td>bring to a conclusion;shutter;expend;kill;dest...</td>\n",
       "      <td></td>\n",
       "      <td>finalize;complete</td>\n",
       "      <td>defeat;conclude;cease;accomplish;wrap up;final...</td>\n",
       "    </tr>\n",
       "    <tr>\n",
       "      <th>369</th>\n",
       "      <td>Human operators are there to monitor the syste...</td>\n",
       "      <td>plants</td>\n",
       "      <td>foundry;sprout;organism belonging to the veget...</td>\n",
       "      <td>factories;stations;parks;facilities;mills;buil...</td>\n",
       "      <td>production plant;facility;factory</td>\n",
       "      <td>gear;manufactory;operation;site;producer;shop;...</td>\n",
       "    </tr>\n",
       "  </tbody>\n",
       "</table>\n",
       "<p>370 rows × 6 columns</p>\n",
       "</div>"
      ],
      "text/plain": [
       "                                              sentence    target  \\\n",
       "0    Kim: I have completed the invoices for April, ...     total   \n",
       "1    Nepthys turned to me. “Well, kid, what do you ...     think   \n",
       "2    He turned to me. Nepthys nodded: “It’s okay, y...      okay   \n",
       "3    “Listen, man, he’s not there! I’m telling you,...  checking   \n",
       "4    …I thought as much. Now leave, before I call t...      call   \n",
       "..                                                 ...       ...   \n",
       "365  “Okay,” I said. “I’m in the car. Now, will you...       car   \n",
       "366  A corpulent, batrachian woman walked along wit...  building   \n",
       "367  “Only unsuccessfully, right?” “No, those peopl...    people   \n",
       "368  “They’re quick, too. We’ll be done with them b...  finished   \n",
       "369  Human operators are there to monitor the syste...    plants   \n",
       "\n",
       "                                                  gold  \\\n",
       "0    all;entirety;quantum;whole;sum total;bulk;figu...   \n",
       "1    estimate;feel;determine;appraise;anticipate;re...   \n",
       "2    swell;alright;adequate;tolerable;convenient;go...   \n",
       "3    withhold;overlook;frustrate;hold down;candle;n...   \n",
       "4    bawl;scream;style;predict;foretell;baptize;rou...   \n",
       "..                                                 ...   \n",
       "365  pickup;vehicle;motor;machine;van;wagon;limousi...   \n",
       "366  facility;flat;structure;unit;skyscraper;house;...   \n",
       "367  guy;creature;bourgeois;folks;person;individual...   \n",
       "368  bring to a conclusion;shutter;expend;kill;dest...   \n",
       "369  foundry;sprout;organism belonging to the veget...   \n",
       "\n",
       "                                             ls_concat  \\\n",
       "0                                      maximum;minimum   \n",
       "1                              say;mean;feel;like;know   \n",
       "2                                           alright;ok   \n",
       "3           calling;searching;crossing;testing;reading   \n",
       "4                                   summon;bring;phone   \n",
       "..                                                 ...   \n",
       "365                  auto;vehicle;house;room;head;taxi   \n",
       "366       dwelling;structure;construction;constructing   \n",
       "367               folks;guys;things;folk;students;kids   \n",
       "368                                                      \n",
       "369  factories;stations;parks;facilities;mills;buil...   \n",
       "\n",
       "                                               gold_05  \\\n",
       "0    sum total;figure;amount;price;cost;balance;sum...   \n",
       "1    presume;conclude;speculate;suppose;suspect;hav...   \n",
       "2                            alright;all right;ok;fine   \n",
       "3                       search;investigate;try;explore   \n",
       "4                  sic;rally;set;summon;send;order;get   \n",
       "..                                                 ...   \n",
       "365  vehicle;auto;motorcar;automobile;ride;vehicle ...   \n",
       "366    facility;structure;edifice;constructed dwelling   \n",
       "367  folks;person;folk;human beings;humans;populace...   \n",
       "368                                  finalize;complete   \n",
       "369                  production plant;facility;factory   \n",
       "\n",
       "                                               gold_01  \n",
       "0    quantum;whole;sum total;figure;amount;price;ag...  \n",
       "1    estimate;feel;determine;appraise;anticipate;pr...  \n",
       "2    swell;alright;adequate;tolerable;convenient;go...  \n",
       "3    search;examine;study;inspect;enquire about;asc...  \n",
       "4    ring up;sic;arrange meeting;roar;attempt to co...  \n",
       "..                                                 ...  \n",
       "365  pickup;vehicle;van;limousine;hatchback;roadste...  \n",
       "366  facility;flat;structure;unit;skyscraper;house;...  \n",
       "367  guy;creature;folks;person;individual;folk;bodi...  \n",
       "368  defeat;conclude;cease;accomplish;wrap up;final...  \n",
       "369  gear;manufactory;operation;site;producer;shop;...  \n",
       "\n",
       "[370 rows x 6 columns]"
      ]
     },
     "execution_count": 30,
     "metadata": {},
     "output_type": "execute_result"
    }
   ],
   "source": [
    "data = pd.read_csv(\"results/swords_results.csv\")\n",
    "sw = pd.read_csv(\"results/swords.csv\")\n",
    "data[\"gold_05\"] = sw[\"gold_05\"]\n",
    "data[\"gold_01\"] = sw[\"gold_01\"]\n",
    "data = data.fillna(\"\")\n",
    "data"
   ]
  },
  {
   "cell_type": "code",
   "execution_count": 27,
   "id": "4db13443",
   "metadata": {},
   "outputs": [
    {
     "data": {
      "text/plain": [
       "5.778378378378378"
      ]
     },
     "execution_count": 27,
     "metadata": {},
     "output_type": "execute_result"
    }
   ],
   "source": [
    "sum([len(x.split(';')) for x in data[\"gold_05\"].to_list()]) / len(data.index)"
   ]
  },
  {
   "cell_type": "code",
   "execution_count": 28,
   "id": "b20f71c2",
   "metadata": {},
   "outputs": [
    {
     "data": {
      "text/plain": [
       "20.464864864864865"
      ]
     },
     "execution_count": 28,
     "metadata": {},
     "output_type": "execute_result"
    }
   ],
   "source": [
    "sum([len(x.split(';')) for x in data[\"gold_01\"].to_list()]) / len(data.index)"
   ]
  },
  {
   "cell_type": "code",
   "execution_count": 31,
   "id": "2fb500bc",
   "metadata": {},
   "outputs": [
    {
     "name": "stdout",
     "output_type": "stream",
     "text": [
      "0.25338491295938104\n",
      "0.31431334622823986\n"
     ]
    }
   ],
   "source": [
    "found5 = 0\n",
    "found1 = 0\n",
    "total = 0\n",
    "idxs1 = []\n",
    "idxs5 = []\n",
    "for i, row in data.iterrows():\n",
    "    d = row[\"ls_concat\"]\n",
    "    if pd.isnull(d) == True:\n",
    "        continue\n",
    "    g5 = row[\"gold_05\"]\n",
    "    g1 = row[\"gold_01\"]\n",
    "    \n",
    "    temp5 = 0\n",
    "    temp1 = 0\n",
    "    for rep in d.lower().split(';')[:3]:\n",
    "        if lemmatizer.lemmatize(rep) in g5.lower().split(';'):\n",
    "            found5 += 1\n",
    "            temp5 += 1\n",
    "        if lemmatizer.lemmatize(rep) in g1.lower().split(';'):\n",
    "            found1 += 1\n",
    "            temp1 += 1\n",
    "        total += 1\n",
    "            \n",
    "    if temp5 == 0:\n",
    "        idxs5.append(i)\n",
    "    if temp1 == 0:\n",
    "        idxs1.append(i)\n",
    "print(found5 / total)\n",
    "print(found1 / total)"
   ]
  },
  {
   "cell_type": "code",
   "execution_count": 33,
   "id": "9ec17764",
   "metadata": {},
   "outputs": [
    {
     "name": "stdout",
     "output_type": "stream",
     "text": [
      "199\n",
      "0.5378378378378378\n",
      "174\n",
      "0.4702702702702703\n"
     ]
    },
    {
     "data": {
      "text/plain": [
       "[351, 66, 12]"
      ]
     },
     "execution_count": 33,
     "metadata": {},
     "output_type": "execute_result"
    }
   ],
   "source": [
    "print(len(idxs5))\n",
    "print(len(idxs5) / len(data.index))\n",
    "\n",
    "print(len(idxs1))\n",
    "print(len(idxs1) / len(data.index))\n",
    "random.seed(42)\n",
    "random.sample(idxs, k=3)"
   ]
  },
  {
   "cell_type": "code",
   "execution_count": 16,
   "id": "fd60dd9f",
   "metadata": {},
   "outputs": [
    {
     "name": "stdout",
     "output_type": "stream",
     "text": [
      "“Nathan,” said Nepthys, “I think that you just did something very stupid.” “I agree,” I told him. The stone was as warm as human flesh now, and there was a sort of glow that might have been light or just the stone’s soft heat, I don’t know.\n",
      "told\n",
      "speak to;reply to;warn;disclose;answer;express to;explain;chronicle;reckon;state;leave word;leak;fill in;proclaim;let know;inform;instruct;notify;communicate;utter;say to;let slip;confess;recite;authorize;mention;express;advise\n",
      "informed;reassured;said;warned;reminded;asked;taught;heard\n"
     ]
    }
   ],
   "source": [
    "i = 99\n",
    "print(data.iloc[i].sentence)\n",
    "print(data.iloc[i].target)\n",
    "print(data.iloc[i].gold_01)\n",
    "print(data.iloc[i].ls_concat)"
   ]
  },
  {
   "cell_type": "code",
   "execution_count": 17,
   "id": "34e0332d",
   "metadata": {},
   "outputs": [
    {
     "name": "stdout",
     "output_type": "stream",
     "text": [
      "But industry analysts said the plant should be insulated from a falloff in one or a few segments of the semiconductor market. (END OPTIONAL TRIM) The factory is highly automated and designed to shift flexibly to produce many different kinds of chips to suit demand. \"The diversity is the big difference with this plant,\" said Richard Doherty, president of Envisioneering, a research firm.\n",
      "chips\n",
      "computer chip;fragment\n",
      "cells;processors;screens;parts;computers;cards\n"
     ]
    }
   ],
   "source": [
    "i = 22\n",
    "print(data.iloc[i].sentence)\n",
    "print(data.iloc[i].target)\n",
    "print(data.iloc[i].gold_01)\n",
    "print(data.iloc[i].ls_concat)"
   ]
  },
  {
   "cell_type": "code",
   "execution_count": 18,
   "id": "dfc0c2b7",
   "metadata": {
    "scrolled": true
   },
   "outputs": [
    {
     "name": "stdout",
     "output_type": "stream",
     "text": [
      "In return, Gailhaguet told the FBI on Feb. 23 as the Olympics were taking place, Tokhtakhounov asked for Gailhaguet's help in renewing his French visa, which was about to expire. But when Gailhaguet sought guidance from a French government official, he was told that \" Tokhtakhounov's money is bad,\" the affidavit said. The federal complaint offers many details of the alleged conspiracy, including excerpts from a transcript of the Italian wiretaps.\n",
      "sought\n",
      "enlist;dig for;offer;ferret out;seek;petition;aim;want;reach out for;beg;query;fish for;solicit;scout;delve for;explore;entreat;try;request;inquire;ask;track down;search for;ask for;search out;look for;pursue;go after;look about;investigate\n",
      "requested;wanted;asked;demanded;received;needed\n"
     ]
    }
   ],
   "source": [
    "i = 207\n",
    "print(data.iloc[i].sentence)\n",
    "print(data.iloc[i].target)\n",
    "print(data.iloc[i].gold_01)\n",
    "print(data.iloc[i].ls_concat)"
   ]
  },
  {
   "cell_type": "markdown",
   "id": "1c91a6de",
   "metadata": {},
   "source": [
    "# dropout percents"
   ]
  },
  {
   "cell_type": "code",
   "execution_count": 4,
   "id": "2fccdc9e",
   "metadata": {},
   "outputs": [
    {
     "data": {
      "text/html": [
       "<div>\n",
       "<style scoped>\n",
       "    .dataframe tbody tr th:only-of-type {\n",
       "        vertical-align: middle;\n",
       "    }\n",
       "\n",
       "    .dataframe tbody tr th {\n",
       "        vertical-align: top;\n",
       "    }\n",
       "\n",
       "    .dataframe thead th {\n",
       "        text-align: right;\n",
       "    }\n",
       "</style>\n",
       "<table border=\"1\" class=\"dataframe\">\n",
       "  <thead>\n",
       "    <tr style=\"text-align: right;\">\n",
       "      <th></th>\n",
       "      <th>sentence</th>\n",
       "      <th>target</th>\n",
       "      <th>gold</th>\n",
       "      <th>ls_dropout</th>\n",
       "    </tr>\n",
       "  </thead>\n",
       "  <tbody>\n",
       "    <tr>\n",
       "      <th>0</th>\n",
       "      <td>During the siege , George Robertson had appoin...</td>\n",
       "      <td>bright</td>\n",
       "      <td>intelligent;clever;smart</td>\n",
       "      <td>young;brave;pretty;brilliant;sharp;handsome;sm...</td>\n",
       "    </tr>\n",
       "    <tr>\n",
       "      <th>1</th>\n",
       "      <td>The actual field is not much different than th...</td>\n",
       "      <td>brighter</td>\n",
       "      <td>luminous;well-lit;clear;light</td>\n",
       "      <td>bright;lighter;sharper;clearer;darker;thinner;...</td>\n",
       "    </tr>\n",
       "    <tr>\n",
       "      <th>2</th>\n",
       "      <td>The roses have grown out of control , wild and...</td>\n",
       "      <td>bright</td>\n",
       "      <td>colourful;brilliant;gleam;luminous</td>\n",
       "      <td>white;gorgeous;sweet;early;lovely;newly;red;pi...</td>\n",
       "    </tr>\n",
       "    <tr>\n",
       "      <th>3</th>\n",
       "      <td>He was bright and independent and proud .</td>\n",
       "      <td>bright</td>\n",
       "      <td>intelligent;clever</td>\n",
       "      <td>smart;young;bold;independent;friendly;kind;sha...</td>\n",
       "    </tr>\n",
       "    <tr>\n",
       "      <th>4</th>\n",
       "      <td>In fact , during at least six distinct periods...</td>\n",
       "      <td>brightest</td>\n",
       "      <td>intelligent;clever;most;capable;promising;shar...</td>\n",
       "      <td>worst;best;finest;greatest;mighty;daring;smart...</td>\n",
       "    </tr>\n",
       "    <tr>\n",
       "      <th>...</th>\n",
       "      <td>...</td>\n",
       "      <td>...</td>\n",
       "      <td>...</td>\n",
       "      <td>...</td>\n",
       "    </tr>\n",
       "    <tr>\n",
       "      <th>295</th>\n",
       "      <td>Anyway here are some static pictures of the bo...</td>\n",
       "      <td>running</td>\n",
       "      <td>operate;go;function;work</td>\n",
       "      <td>operating;working;flying;sailing;driving;gone;...</td>\n",
       "    </tr>\n",
       "    <tr>\n",
       "      <th>296</th>\n",
       "      <td>Last year , for example , we ran 2,659 electio...</td>\n",
       "      <td>ran</td>\n",
       "      <td>organise;manage;handle;complete</td>\n",
       "      <td>runs;logged;run;scored;conducted;implemented;s...</td>\n",
       "    </tr>\n",
       "    <tr>\n",
       "      <th>297</th>\n",
       "      <td>This is an excellent and important discussion ...</td>\n",
       "      <td>runs</td>\n",
       "      <td>contradict;proceed;flow;go;go</td>\n",
       "      <td>works;ran;run;goes;stands;rings;pays;running;p...</td>\n",
       "    </tr>\n",
       "    <tr>\n",
       "      <th>298</th>\n",
       "      <td>Rumor has it that Apple is just B4 offering a ...</td>\n",
       "      <td>runs</td>\n",
       "      <td>use;execute;operate;include</td>\n",
       "      <td>run;ran;running;lacks;packs;uses;runs;contains...</td>\n",
       "    </tr>\n",
       "    <tr>\n",
       "      <th>299</th>\n",
       "      <td>Why do you run from me ?</td>\n",
       "      <td>run</td>\n",
       "      <td>flee;scurry;avoid;rush;try</td>\n",
       "      <td>ran;hide;want;take;buy;hear;running;get;separa...</td>\n",
       "    </tr>\n",
       "  </tbody>\n",
       "</table>\n",
       "<p>300 rows × 4 columns</p>\n",
       "</div>"
      ],
      "text/plain": [
       "                                              sentence     target  \\\n",
       "0    During the siege , George Robertson had appoin...     bright   \n",
       "1    The actual field is not much different than th...   brighter   \n",
       "2    The roses have grown out of control , wild and...     bright   \n",
       "3            He was bright and independent and proud .     bright   \n",
       "4    In fact , during at least six distinct periods...  brightest   \n",
       "..                                                 ...        ...   \n",
       "295  Anyway here are some static pictures of the bo...    running   \n",
       "296  Last year , for example , we ran 2,659 electio...        ran   \n",
       "297  This is an excellent and important discussion ...       runs   \n",
       "298  Rumor has it that Apple is just B4 offering a ...       runs   \n",
       "299                           Why do you run from me ?        run   \n",
       "\n",
       "                                                  gold  \\\n",
       "0                             intelligent;clever;smart   \n",
       "1                        luminous;well-lit;clear;light   \n",
       "2                   colourful;brilliant;gleam;luminous   \n",
       "3                                   intelligent;clever   \n",
       "4    intelligent;clever;most;capable;promising;shar...   \n",
       "..                                                 ...   \n",
       "295                           operate;go;function;work   \n",
       "296                    organise;manage;handle;complete   \n",
       "297                      contradict;proceed;flow;go;go   \n",
       "298                        use;execute;operate;include   \n",
       "299                         flee;scurry;avoid;rush;try   \n",
       "\n",
       "                                            ls_dropout  \n",
       "0    young;brave;pretty;brilliant;sharp;handsome;sm...  \n",
       "1    bright;lighter;sharper;clearer;darker;thinner;...  \n",
       "2    white;gorgeous;sweet;early;lovely;newly;red;pi...  \n",
       "3    smart;young;bold;independent;friendly;kind;sha...  \n",
       "4    worst;best;finest;greatest;mighty;daring;smart...  \n",
       "..                                                 ...  \n",
       "295  operating;working;flying;sailing;driving;gone;...  \n",
       "296  runs;logged;run;scored;conducted;implemented;s...  \n",
       "297  works;ran;run;goes;stands;rings;pays;running;p...  \n",
       "298  run;ran;running;lacks;packs;uses;runs;contains...  \n",
       "299  ran;hide;want;take;buy;hear;running;get;separa...  \n",
       "\n",
       "[300 rows x 4 columns]"
      ]
     },
     "execution_count": 4,
     "metadata": {},
     "output_type": "execute_result"
    }
   ],
   "source": [
    "data = pd.read_csv(\"results/ls07_dropout_results.csv\")\n",
    "data"
   ]
  },
  {
   "cell_type": "code",
   "execution_count": 5,
   "id": "eef98b37",
   "metadata": {},
   "outputs": [
    {
     "data": {
      "text/plain": [
       "0.11457174638487208"
      ]
     },
     "execution_count": 5,
     "metadata": {},
     "output_type": "execute_result"
    }
   ],
   "source": [
    "found = 0\n",
    "total = 0\n",
    "idxs = []\n",
    "for i, row in data.iterrows():\n",
    "    d = row[\"ls_dropout\"]\n",
    "    if pd.isnull(d) == True:\n",
    "        continue\n",
    "    g = row[\"gold\"]\n",
    "    \n",
    "    temp = 0\n",
    "    for rep in d.lower().split(';')[:3]:\n",
    "        if lemmatizer.lemmatize(rep) in g.lower().split(';'):\n",
    "            found += 1\n",
    "            temp += 1\n",
    "        total += 1\n",
    "            \n",
    "    if temp == 0:\n",
    "        idxs.append(i)\n",
    "found / total"
   ]
  },
  {
   "cell_type": "code",
   "execution_count": 7,
   "id": "dd563693",
   "metadata": {},
   "outputs": [
    {
     "name": "stdout",
     "output_type": "stream",
     "text": [
      "211\n",
      "0.7033333333333334\n"
     ]
    }
   ],
   "source": [
    "print(len(idxs))\n",
    "print(len(idxs) / len(data.index))"
   ]
  },
  {
   "cell_type": "code",
   "execution_count": 8,
   "id": "578ddbc2",
   "metadata": {
    "scrolled": false
   },
   "outputs": [
    {
     "data": {
      "text/html": [
       "<div>\n",
       "<style scoped>\n",
       "    .dataframe tbody tr th:only-of-type {\n",
       "        vertical-align: middle;\n",
       "    }\n",
       "\n",
       "    .dataframe tbody tr th {\n",
       "        vertical-align: top;\n",
       "    }\n",
       "\n",
       "    .dataframe thead th {\n",
       "        text-align: right;\n",
       "    }\n",
       "</style>\n",
       "<table border=\"1\" class=\"dataframe\">\n",
       "  <thead>\n",
       "    <tr style=\"text-align: right;\">\n",
       "      <th></th>\n",
       "      <th>precontext</th>\n",
       "      <th>target_sentence</th>\n",
       "      <th>postcontext</th>\n",
       "      <th>substitutions</th>\n",
       "      <th>replace</th>\n",
       "      <th>replace_proc</th>\n",
       "    </tr>\n",
       "  </thead>\n",
       "  <tbody>\n",
       "    <tr>\n",
       "      <th>0</th>\n",
       "      <td>NaN</td>\n",
       "      <td>A mission to end a war</td>\n",
       "      <td>AUSTIN, Texas -- Tom Karnes was dialing for de...</td>\n",
       "      <td>{'mission': 'calling;campaign;dedication;devot...</td>\n",
       "      <td>{'mission': 'mission;and;plan;trying;quest;att...</td>\n",
       "      <td>{'mission': 'mission;and;plan;trying;quest;att...</td>\n",
       "    </tr>\n",
       "    <tr>\n",
       "      <th>1</th>\n",
       "      <td>NaN</td>\n",
       "      <td>A.L. Williams Corp. was merged into Primerica ...</td>\n",
       "      <td>Primerica, which had owned nearly 70% of Willi...</td>\n",
       "      <td>{'merged': 'absorb;assimilate;combine;join;tak...</td>\n",
       "      <td>{'merged': 'split;merger;merge;absorbed;mergin...</td>\n",
       "      <td>{'merged': 'split;merger;merge;absorbed;mergin...</td>\n",
       "    </tr>\n",
       "    <tr>\n",
       "      <th>2</th>\n",
       "      <td>NaN</td>\n",
       "      <td>ANGELS MAKE TRADE TO GET OUTFIELD DEPTH</td>\n",
       "      <td>ANAHEIM, Calif. -- The Anaheim Angels got help...</td>\n",
       "      <td>{'MAKE': 'accept;arrange;carry out;conduct;do;...</td>\n",
       "      <td>{'MAKE': 'Make;Reach;Made;Via;Use;make;Makes;N...</td>\n",
       "      <td>{'MAKE': 'make;reach;made;via;use;make;make;na...</td>\n",
       "    </tr>\n",
       "    <tr>\n",
       "      <th>3</th>\n",
       "      <td>NaN</td>\n",
       "      <td>CHRON EDITORS NOTE: Each week, The Chronicle o...</td>\n",
       "      <td>THE PRODUCE BIN: Bitter melon</td>\n",
       "      <td>{'NOTE': 'addendum;addition;comment;input;mess...</td>\n",
       "      <td>{'NOTE': 'Note;ES;OFF;IAL;LOG;note;VIEW;Notes'...</td>\n",
       "      <td>{'NOTE': 'note;e;off;ial;log;note;view;note', ...</td>\n",
       "    </tr>\n",
       "    <tr>\n",
       "      <th>4</th>\n",
       "      <td>NaN</td>\n",
       "      <td>Coleco Industries Inc., a once high-flying toy...</td>\n",
       "      <td>Under the plan, unsecured creditors, who are o...</td>\n",
       "      <td>{'once': 'before;formerly;in the past;old;one ...</td>\n",
       "      <td>{'once': 'formerly;former;famously;historicall...</td>\n",
       "      <td>{'once': 'formerly;former;famously;historicall...</td>\n",
       "    </tr>\n",
       "    <tr>\n",
       "      <th>...</th>\n",
       "      <td>...</td>\n",
       "      <td>...</td>\n",
       "      <td>...</td>\n",
       "      <td>...</td>\n",
       "      <td>...</td>\n",
       "      <td>...</td>\n",
       "    </tr>\n",
       "    <tr>\n",
       "      <th>2469</th>\n",
       "      <td>But, sir, this is an unusual situation.</td>\n",
       "      <td>She didn’t come home last night, none of her f...</td>\n",
       "      <td>She didn’t come home last night, none of her f...</td>\n",
       "      <td>{'didn': 'did not;have', 'come': 'appear;arriv...</td>\n",
       "      <td>{'didn': 'din;didnt', 'come': 'return;came;app...</td>\n",
       "      <td>{'didn': 'din;didnt', 'come': 'return;came;app...</td>\n",
       "    </tr>\n",
       "    <tr>\n",
       "      <th>2470</th>\n",
       "      <td>I thought as much.</td>\n",
       "      <td>Now leave, before I call the rats on you.</td>\n",
       "      <td>Now leave, before I call the rats on you.</td>\n",
       "      <td>{'Now': 'alright;at this instant;at this time;...</td>\n",
       "      <td>{'Now': 'now;But;Just;So;I;Or;Please;And;You;T...</td>\n",
       "      <td>{'Now': 'now;but;just;so;i;or;please;and;you;t...</td>\n",
       "    </tr>\n",
       "    <tr>\n",
       "      <th>2471</th>\n",
       "      <td>Rachel Frieze.</td>\n",
       "      <td>Last night, walking on West 2nd street around ...</td>\n",
       "      <td>Last night, walking on West 2nd street around ...</td>\n",
       "      <td>{'Last': 'former;past;previous;prior;the previ...</td>\n",
       "      <td>{'Last': 'Yesterday;last;Late;Friday;Thursday;...</td>\n",
       "      <td>{'Last': 'yesterday;last;late;friday;thursday;...</td>\n",
       "    </tr>\n",
       "    <tr>\n",
       "      <th>2472</th>\n",
       "      <td>Sir, if she’s in any danger, it will probably ...</td>\n",
       "      <td>My girlfriend has disappeared, I don’t even kn...</td>\n",
       "      <td>My girlfriend has disappeared, I don’t even kn...</td>\n",
       "      <td>{'girlfriend': 'chick;friend;girl;honey;lover;...</td>\n",
       "      <td>{'girlfriend': 'girl;wife;friend;boyfriend;sis...</td>\n",
       "      <td>{'girlfriend': 'girl;wife;friend;boyfriend;sis...</td>\n",
       "    </tr>\n",
       "    <tr>\n",
       "      <th>2473</th>\n",
       "      <td>Yes, sir.</td>\n",
       "      <td>I understand.</td>\n",
       "      <td>I understand.</td>\n",
       "      <td>{'understand': 'be aware;comprehend;get it;gra...</td>\n",
       "      <td>{'understand': 'Feel;,;.;see;Know;Read'}</td>\n",
       "      <td>{'understand': 'feel;,;.;see;know;read'}</td>\n",
       "    </tr>\n",
       "  </tbody>\n",
       "</table>\n",
       "<p>2474 rows × 6 columns</p>\n",
       "</div>"
      ],
      "text/plain": [
       "                                             precontext  \\\n",
       "0                                                   NaN   \n",
       "1                                                   NaN   \n",
       "2                                                   NaN   \n",
       "3                                                   NaN   \n",
       "4                                                   NaN   \n",
       "...                                                 ...   \n",
       "2469            But, sir, this is an unusual situation.   \n",
       "2470                                 I thought as much.   \n",
       "2471                                     Rachel Frieze.   \n",
       "2472  Sir, if she’s in any danger, it will probably ...   \n",
       "2473                                          Yes, sir.   \n",
       "\n",
       "                                        target_sentence  \\\n",
       "0                                A mission to end a war   \n",
       "1     A.L. Williams Corp. was merged into Primerica ...   \n",
       "2               ANGELS MAKE TRADE TO GET OUTFIELD DEPTH   \n",
       "3     CHRON EDITORS NOTE: Each week, The Chronicle o...   \n",
       "4     Coleco Industries Inc., a once high-flying toy...   \n",
       "...                                                 ...   \n",
       "2469  She didn’t come home last night, none of her f...   \n",
       "2470          Now leave, before I call the rats on you.   \n",
       "2471  Last night, walking on West 2nd street around ...   \n",
       "2472  My girlfriend has disappeared, I don’t even kn...   \n",
       "2473                                      I understand.   \n",
       "\n",
       "                                            postcontext  \\\n",
       "0     AUSTIN, Texas -- Tom Karnes was dialing for de...   \n",
       "1     Primerica, which had owned nearly 70% of Willi...   \n",
       "2     ANAHEIM, Calif. -- The Anaheim Angels got help...   \n",
       "3                         THE PRODUCE BIN: Bitter melon   \n",
       "4     Under the plan, unsecured creditors, who are o...   \n",
       "...                                                 ...   \n",
       "2469  She didn’t come home last night, none of her f...   \n",
       "2470          Now leave, before I call the rats on you.   \n",
       "2471  Last night, walking on West 2nd street around ...   \n",
       "2472  My girlfriend has disappeared, I don’t even kn...   \n",
       "2473                                      I understand.   \n",
       "\n",
       "                                          substitutions  \\\n",
       "0     {'mission': 'calling;campaign;dedication;devot...   \n",
       "1     {'merged': 'absorb;assimilate;combine;join;tak...   \n",
       "2     {'MAKE': 'accept;arrange;carry out;conduct;do;...   \n",
       "3     {'NOTE': 'addendum;addition;comment;input;mess...   \n",
       "4     {'once': 'before;formerly;in the past;old;one ...   \n",
       "...                                                 ...   \n",
       "2469  {'didn': 'did not;have', 'come': 'appear;arriv...   \n",
       "2470  {'Now': 'alright;at this instant;at this time;...   \n",
       "2471  {'Last': 'former;past;previous;prior;the previ...   \n",
       "2472  {'girlfriend': 'chick;friend;girl;honey;lover;...   \n",
       "2473  {'understand': 'be aware;comprehend;get it;gra...   \n",
       "\n",
       "                                                replace  \\\n",
       "0     {'mission': 'mission;and;plan;trying;quest;att...   \n",
       "1     {'merged': 'split;merger;merge;absorbed;mergin...   \n",
       "2     {'MAKE': 'Make;Reach;Made;Via;Use;make;Makes;N...   \n",
       "3     {'NOTE': 'Note;ES;OFF;IAL;LOG;note;VIEW;Notes'...   \n",
       "4     {'once': 'formerly;former;famously;historicall...   \n",
       "...                                                 ...   \n",
       "2469  {'didn': 'din;didnt', 'come': 'return;came;app...   \n",
       "2470  {'Now': 'now;But;Just;So;I;Or;Please;And;You;T...   \n",
       "2471  {'Last': 'Yesterday;last;Late;Friday;Thursday;...   \n",
       "2472  {'girlfriend': 'girl;wife;friend;boyfriend;sis...   \n",
       "2473           {'understand': 'Feel;,;.;see;Know;Read'}   \n",
       "\n",
       "                                           replace_proc  \n",
       "0     {'mission': 'mission;and;plan;trying;quest;att...  \n",
       "1     {'merged': 'split;merger;merge;absorbed;mergin...  \n",
       "2     {'MAKE': 'make;reach;made;via;use;make;make;na...  \n",
       "3     {'NOTE': 'note;e;off;ial;log;note;view;note', ...  \n",
       "4     {'once': 'formerly;former;famously;historicall...  \n",
       "...                                                 ...  \n",
       "2469  {'didn': 'din;didnt', 'come': 'return;came;app...  \n",
       "2470  {'Now': 'now;but;just;so;i;or;please;and;you;t...  \n",
       "2471  {'Last': 'yesterday;last;late;friday;thursday;...  \n",
       "2472  {'girlfriend': 'girl;wife;friend;boyfriend;sis...  \n",
       "2473           {'understand': 'feel;,;.;see;know;read'}  \n",
       "\n",
       "[2474 rows x 6 columns]"
      ]
     },
     "execution_count": 8,
     "metadata": {},
     "output_type": "execute_result"
    }
   ],
   "source": [
    "data = pd.read_csv(\"results/coinco_ls_dropout_results.csv\")\n",
    "data"
   ]
  },
  {
   "cell_type": "code",
   "execution_count": 9,
   "id": "3406730f",
   "metadata": {},
   "outputs": [
    {
     "data": {
      "text/plain": [
       "0.18560277536860365"
      ]
     },
     "execution_count": 9,
     "metadata": {},
     "output_type": "execute_result"
    }
   ],
   "source": [
    "found = 0\n",
    "total = 0\n",
    "idxs = []\n",
    "for i, row in data.iterrows():\n",
    "    d = eval(row[\"replace_proc\"])\n",
    "    g = eval(row[\"substitutions\"])\n",
    "    \n",
    "    temp = 0\n",
    "    for rep in d:\n",
    "        for cand in d[rep].lower().split(';')[:3]:\n",
    "            if lemmatizer.lemmatize(cand) in g[rep].lower().split(';'):\n",
    "                found += 1\n",
    "                temp += 1\n",
    "            total += 1\n",
    "            \n",
    "    if temp == 0:\n",
    "        idxs.append(i)\n",
    "found / total"
   ]
  },
  {
   "cell_type": "code",
   "execution_count": 10,
   "id": "137360c3",
   "metadata": {},
   "outputs": [
    {
     "name": "stdout",
     "output_type": "stream",
     "text": [
      "440\n",
      "0.1778496362166532\n"
     ]
    }
   ],
   "source": [
    "print(len(idxs))\n",
    "print(len(idxs) / len(data.index))"
   ]
  },
  {
   "cell_type": "code",
   "execution_count": 35,
   "id": "9d512266",
   "metadata": {},
   "outputs": [
    {
     "data": {
      "text/html": [
       "<div>\n",
       "<style scoped>\n",
       "    .dataframe tbody tr th:only-of-type {\n",
       "        vertical-align: middle;\n",
       "    }\n",
       "\n",
       "    .dataframe tbody tr th {\n",
       "        vertical-align: top;\n",
       "    }\n",
       "\n",
       "    .dataframe thead th {\n",
       "        text-align: right;\n",
       "    }\n",
       "</style>\n",
       "<table border=\"1\" class=\"dataframe\">\n",
       "  <thead>\n",
       "    <tr style=\"text-align: right;\">\n",
       "      <th></th>\n",
       "      <th>sentence</th>\n",
       "      <th>target</th>\n",
       "      <th>gold</th>\n",
       "      <th>ls_dropout</th>\n",
       "      <th>gold_05</th>\n",
       "      <th>gold_01</th>\n",
       "    </tr>\n",
       "  </thead>\n",
       "  <tbody>\n",
       "    <tr>\n",
       "      <th>0</th>\n",
       "      <td>Kim: I have completed the invoices for April, ...</td>\n",
       "      <td>total</td>\n",
       "      <td>all;entirety;quantum;whole;sum total;bulk;figu...</td>\n",
       "      <td>totaled;minimum;total;result;maximum;fee;balan...</td>\n",
       "      <td>sum total;figure;amount;price;cost;balance;sum...</td>\n",
       "      <td>quantum;whole;sum total;figure;amount;price;ag...</td>\n",
       "    </tr>\n",
       "    <tr>\n",
       "      <th>1</th>\n",
       "      <td>Nepthys turned to me. “Well, kid, what do you ...</td>\n",
       "      <td>think</td>\n",
       "      <td>estimate;feel;determine;appraise;anticipate;re...</td>\n",
       "      <td>thought;mean;want;reckon;say;see;suggest;need;...</td>\n",
       "      <td>presume;conclude;speculate;suppose;suspect;hav...</td>\n",
       "      <td>estimate;feel;determine;appraise;anticipate;pr...</td>\n",
       "    </tr>\n",
       "    <tr>\n",
       "      <th>2</th>\n",
       "      <td>He turned to me. Nepthys nodded: “It’s okay, y...</td>\n",
       "      <td>okay</td>\n",
       "      <td>swell;alright;adequate;tolerable;convenient;go...</td>\n",
       "      <td>alright;ok;fine;right;good;true;agreed;like;gr...</td>\n",
       "      <td>alright;all right;ok;fine</td>\n",
       "      <td>swell;alright;adequate;tolerable;convenient;go...</td>\n",
       "    </tr>\n",
       "    <tr>\n",
       "      <th>3</th>\n",
       "      <td>“Listen, man, he’s not there! I’m telling you,...</td>\n",
       "      <td>checking</td>\n",
       "      <td>withhold;overlook;frustrate;hold down;candle;n...</td>\n",
       "      <td>trying;check;keeping;getting;seeing;touching;r...</td>\n",
       "      <td>search;investigate;try;explore</td>\n",
       "      <td>search;examine;study;inspect;enquire about;asc...</td>\n",
       "    </tr>\n",
       "    <tr>\n",
       "      <th>4</th>\n",
       "      <td>…I thought as much. Now leave, before I call t...</td>\n",
       "      <td>call</td>\n",
       "      <td>bawl;scream;style;predict;foretell;baptize;rou...</td>\n",
       "      <td>called;throw;calling;Call;calls;call;draw;turn...</td>\n",
       "      <td>sic;rally;set;summon;send;order;get</td>\n",
       "      <td>ring up;sic;arrange meeting;roar;attempt to co...</td>\n",
       "    </tr>\n",
       "    <tr>\n",
       "      <th>...</th>\n",
       "      <td>...</td>\n",
       "      <td>...</td>\n",
       "      <td>...</td>\n",
       "      <td>...</td>\n",
       "      <td>...</td>\n",
       "      <td>...</td>\n",
       "    </tr>\n",
       "    <tr>\n",
       "      <th>365</th>\n",
       "      <td>“Okay,” I said. “I’m in the car. Now, will you...</td>\n",
       "      <td>car</td>\n",
       "      <td>pickup;vehicle;motor;machine;van;wagon;limousi...</td>\n",
       "      <td>room;back;,;phone;head;driver;road;U;D;cab;hou...</td>\n",
       "      <td>vehicle;auto;motorcar;automobile;ride;vehicle ...</td>\n",
       "      <td>pickup;vehicle;van;limousine;hatchback;roadste...</td>\n",
       "    </tr>\n",
       "    <tr>\n",
       "      <th>366</th>\n",
       "      <td>A corpulent, batrachian woman walked along wit...</td>\n",
       "      <td>building</td>\n",
       "      <td>facility;flat;structure;unit;skyscraper;house;...</td>\n",
       "      <td>roof;tent;room;rooftop;stall;bakery;school;tow...</td>\n",
       "      <td>facility;structure;edifice;constructed dwelling</td>\n",
       "      <td>facility;flat;structure;unit;skyscraper;house;...</td>\n",
       "    </tr>\n",
       "    <tr>\n",
       "      <th>367</th>\n",
       "      <td>“Only unsuccessfully, right?” “No, those peopl...</td>\n",
       "      <td>people</td>\n",
       "      <td>guy;creature;bourgeois;folks;person;individual...</td>\n",
       "      <td>folks;tales;folk;guys;,;boys;travellers;studen...</td>\n",
       "      <td>folks;person;folk;human beings;humans;populace...</td>\n",
       "      <td>guy;creature;folks;person;individual;folk;bodi...</td>\n",
       "    </tr>\n",
       "    <tr>\n",
       "      <th>368</th>\n",
       "      <td>“They’re quick, too. We’ll be done with them b...</td>\n",
       "      <td>finished</td>\n",
       "      <td>bring to a conclusion;shutter;expend;kill;dest...</td>\n",
       "      <td>done;dry;wet;ruined;dried;complete;chopped;rea...</td>\n",
       "      <td>finalize;complete</td>\n",
       "      <td>defeat;conclude;cease;accomplish;wrap up;final...</td>\n",
       "    </tr>\n",
       "    <tr>\n",
       "      <th>369</th>\n",
       "      <td>Human operators are there to monitor the syste...</td>\n",
       "      <td>plants</td>\n",
       "      <td>foundry;sprout;organism belonging to the veget...</td>\n",
       "      <td>plant;machines;factory;factories;facilities;eq...</td>\n",
       "      <td>production plant;facility;factory</td>\n",
       "      <td>gear;manufactory;operation;site;producer;shop;...</td>\n",
       "    </tr>\n",
       "  </tbody>\n",
       "</table>\n",
       "<p>370 rows × 6 columns</p>\n",
       "</div>"
      ],
      "text/plain": [
       "                                              sentence    target  \\\n",
       "0    Kim: I have completed the invoices for April, ...     total   \n",
       "1    Nepthys turned to me. “Well, kid, what do you ...     think   \n",
       "2    He turned to me. Nepthys nodded: “It’s okay, y...      okay   \n",
       "3    “Listen, man, he’s not there! I’m telling you,...  checking   \n",
       "4    …I thought as much. Now leave, before I call t...      call   \n",
       "..                                                 ...       ...   \n",
       "365  “Okay,” I said. “I’m in the car. Now, will you...       car   \n",
       "366  A corpulent, batrachian woman walked along wit...  building   \n",
       "367  “Only unsuccessfully, right?” “No, those peopl...    people   \n",
       "368  “They’re quick, too. We’ll be done with them b...  finished   \n",
       "369  Human operators are there to monitor the syste...    plants   \n",
       "\n",
       "                                                  gold  \\\n",
       "0    all;entirety;quantum;whole;sum total;bulk;figu...   \n",
       "1    estimate;feel;determine;appraise;anticipate;re...   \n",
       "2    swell;alright;adequate;tolerable;convenient;go...   \n",
       "3    withhold;overlook;frustrate;hold down;candle;n...   \n",
       "4    bawl;scream;style;predict;foretell;baptize;rou...   \n",
       "..                                                 ...   \n",
       "365  pickup;vehicle;motor;machine;van;wagon;limousi...   \n",
       "366  facility;flat;structure;unit;skyscraper;house;...   \n",
       "367  guy;creature;bourgeois;folks;person;individual...   \n",
       "368  bring to a conclusion;shutter;expend;kill;dest...   \n",
       "369  foundry;sprout;organism belonging to the veget...   \n",
       "\n",
       "                                            ls_dropout  \\\n",
       "0    totaled;minimum;total;result;maximum;fee;balan...   \n",
       "1    thought;mean;want;reckon;say;see;suggest;need;...   \n",
       "2    alright;ok;fine;right;good;true;agreed;like;gr...   \n",
       "3    trying;check;keeping;getting;seeing;touching;r...   \n",
       "4    called;throw;calling;Call;calls;call;draw;turn...   \n",
       "..                                                 ...   \n",
       "365  room;back;,;phone;head;driver;road;U;D;cab;hou...   \n",
       "366  roof;tent;room;rooftop;stall;bakery;school;tow...   \n",
       "367  folks;tales;folk;guys;,;boys;travellers;studen...   \n",
       "368  done;dry;wet;ruined;dried;complete;chopped;rea...   \n",
       "369  plant;machines;factory;factories;facilities;eq...   \n",
       "\n",
       "                                               gold_05  \\\n",
       "0    sum total;figure;amount;price;cost;balance;sum...   \n",
       "1    presume;conclude;speculate;suppose;suspect;hav...   \n",
       "2                            alright;all right;ok;fine   \n",
       "3                       search;investigate;try;explore   \n",
       "4                  sic;rally;set;summon;send;order;get   \n",
       "..                                                 ...   \n",
       "365  vehicle;auto;motorcar;automobile;ride;vehicle ...   \n",
       "366    facility;structure;edifice;constructed dwelling   \n",
       "367  folks;person;folk;human beings;humans;populace...   \n",
       "368                                  finalize;complete   \n",
       "369                  production plant;facility;factory   \n",
       "\n",
       "                                               gold_01  \n",
       "0    quantum;whole;sum total;figure;amount;price;ag...  \n",
       "1    estimate;feel;determine;appraise;anticipate;pr...  \n",
       "2    swell;alright;adequate;tolerable;convenient;go...  \n",
       "3    search;examine;study;inspect;enquire about;asc...  \n",
       "4    ring up;sic;arrange meeting;roar;attempt to co...  \n",
       "..                                                 ...  \n",
       "365  pickup;vehicle;van;limousine;hatchback;roadste...  \n",
       "366  facility;flat;structure;unit;skyscraper;house;...  \n",
       "367  guy;creature;folks;person;individual;folk;bodi...  \n",
       "368  defeat;conclude;cease;accomplish;wrap up;final...  \n",
       "369  gear;manufactory;operation;site;producer;shop;...  \n",
       "\n",
       "[370 rows x 6 columns]"
      ]
     },
     "execution_count": 35,
     "metadata": {},
     "output_type": "execute_result"
    }
   ],
   "source": [
    "data = pd.read_csv(\"results/swords_results_dropout.csv\")\n",
    "sw = pd.read_csv(\"results/swords.csv\")\n",
    "data[\"gold_05\"] = sw[\"gold_05\"]\n",
    "data[\"gold_01\"] = sw[\"gold_01\"]\n",
    "data = data.fillna(\"\")\n",
    "data"
   ]
  },
  {
   "cell_type": "code",
   "execution_count": 36,
   "id": "c4d12cdf",
   "metadata": {},
   "outputs": [
    {
     "name": "stdout",
     "output_type": "stream",
     "text": [
      "0.157942238267148\n",
      "0.20577617328519857\n"
     ]
    }
   ],
   "source": [
    "found5 = 0\n",
    "found1 = 0\n",
    "total = 0\n",
    "idxs1 = []\n",
    "idxs5 = []\n",
    "for i, row in data.iterrows():\n",
    "    d = row[\"ls_dropout\"]\n",
    "    if pd.isnull(d) == True:\n",
    "        continue\n",
    "    g5 = row[\"gold_05\"]\n",
    "    g1 = row[\"gold_01\"]\n",
    "    \n",
    "    temp5 = 0\n",
    "    temp1 = 0\n",
    "    for rep in d.lower().split(';')[:3]:\n",
    "        if lemmatizer.lemmatize(rep) in g5.lower().split(';'):\n",
    "            found5 += 1\n",
    "            temp5 += 1\n",
    "        if lemmatizer.lemmatize(rep) in g1.lower().split(';'):\n",
    "            found1 += 1\n",
    "            temp1 += 1\n",
    "        total += 1\n",
    "            \n",
    "    if temp5 == 0:\n",
    "        idxs5.append(i)\n",
    "    if temp1 == 0:\n",
    "        idxs1.append(i)\n",
    "print(found5 / total)\n",
    "print(found1 / total)"
   ]
  },
  {
   "cell_type": "code",
   "execution_count": 37,
   "id": "74db604f",
   "metadata": {},
   "outputs": [
    {
     "name": "stdout",
     "output_type": "stream",
     "text": [
      "240\n",
      "0.6486486486486487\n",
      "211\n",
      "0.5702702702702702\n"
     ]
    },
    {
     "data": {
      "text/plain": [
       "[351, 66, 12]"
      ]
     },
     "execution_count": 37,
     "metadata": {},
     "output_type": "execute_result"
    }
   ],
   "source": [
    "print(len(idxs5))\n",
    "print(len(idxs5) / len(data.index))\n",
    "\n",
    "print(len(idxs1))\n",
    "print(len(idxs1) / len(data.index))\n",
    "random.seed(42)\n",
    "random.sample(idxs, k=3)"
   ]
  }
 ],
 "metadata": {
  "kernelspec": {
   "display_name": "Python 3 (ipykernel)",
   "language": "python",
   "name": "python3"
  },
  "language_info": {
   "codemirror_mode": {
    "name": "ipython",
    "version": 3
   },
   "file_extension": ".py",
   "mimetype": "text/x-python",
   "name": "python",
   "nbconvert_exporter": "python",
   "pygments_lexer": "ipython3",
   "version": "3.8.10"
  }
 },
 "nbformat": 4,
 "nbformat_minor": 5
}
